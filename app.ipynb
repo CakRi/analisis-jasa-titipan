{
 "cells": [
  {
   "cell_type": "code",
   "execution_count": 4,
   "metadata": {},
   "outputs": [],
   "source": [
    "# import function create index from file 1_similar.py\n",
    "from create_index import create_index, load_data, find_similar\n",
    "from hscode_similarity import get_similarity\n",
    "from sentence_transformers import SentenceTransformer\n",
    "import pandas as pd\n",
    "from hs_risk import get_risk\n",
    "from price_range import get_range\n",
    "import numpy as np"
   ]
  },
  {
   "cell_type": "code",
   "execution_count": 5,
   "metadata": {},
   "outputs": [],
   "source": [
    "df = load_data('./data/cn1.csv')\n",
    "\n",
    "df = df.applymap(lambda x: x.strip() if isinstance(x, str) else x)\n",
    "df = df[df['HS_CODE'].replace('', np.nan).notna()]"
   ]
  },
  {
   "cell_type": "markdown",
   "metadata": {},
   "source": [
    "### Pencarian Importir"
   ]
  },
  {
   "cell_type": "code",
   "execution_count": 6,
   "metadata": {},
   "outputs": [],
   "source": [
    "model_ident, vectorizer_ident, model_name, vectorizer_name, model_address, vectorizer_address, model_uraian, vectorizer_uraian = create_index(df)"
   ]
  },
  {
   "cell_type": "code",
   "execution_count": 7,
   "metadata": {},
   "outputs": [
    {
     "data": {
      "application/vnd.jupyter.widget-view+json": {
       "model_id": "bcd83a8486124a48b140e810f69ec542",
       "version_major": 2,
       "version_minor": 0
      },
      "text/plain": [
       "modules.json:   0%|          | 0.00/229 [00:00<?, ?B/s]"
      ]
     },
     "metadata": {},
     "output_type": "display_data"
    },
    {
     "name": "stderr",
     "output_type": "stream",
     "text": [
      "c:\\Users\\KomputerSKKK\\AppData\\Local\\Programs\\Python\\Python310\\lib\\site-packages\\huggingface_hub\\file_download.py:157: UserWarning: `huggingface_hub` cache-system uses symlinks by default to efficiently store duplicated files but your machine does not support them in C:\\Users\\KomputerSKKK\\.cache\\huggingface\\hub\\models--sentence-transformers--paraphrase-multilingual-mpnet-base-v2. Caching files will still work but in a degraded version that might require more space on your disk. This warning can be disabled by setting the `HF_HUB_DISABLE_SYMLINKS_WARNING` environment variable. For more details, see https://huggingface.co/docs/huggingface_hub/how-to-cache#limitations.\n",
      "To support symlinks on Windows, you either need to activate Developer Mode or to run Python as an administrator. In order to see activate developer mode, see this article: https://docs.microsoft.com/en-us/windows/apps/get-started/enable-your-device-for-development\n",
      "  warnings.warn(message)\n"
     ]
    },
    {
     "data": {
      "application/vnd.jupyter.widget-view+json": {
       "model_id": "003d6c741fcd4354b138bbf3d737d662",
       "version_major": 2,
       "version_minor": 0
      },
      "text/plain": [
       "config_sentence_transformers.json:   0%|          | 0.00/122 [00:00<?, ?B/s]"
      ]
     },
     "metadata": {},
     "output_type": "display_data"
    },
    {
     "data": {
      "application/vnd.jupyter.widget-view+json": {
       "model_id": "f6f6c9e0315f47c293ef365ed4236df4",
       "version_major": 2,
       "version_minor": 0
      },
      "text/plain": [
       "README.md:   0%|          | 0.00/4.13k [00:00<?, ?B/s]"
      ]
     },
     "metadata": {},
     "output_type": "display_data"
    },
    {
     "data": {
      "application/vnd.jupyter.widget-view+json": {
       "model_id": "3febbb274fb24be986989c1e72b110a5",
       "version_major": 2,
       "version_minor": 0
      },
      "text/plain": [
       "sentence_bert_config.json:   0%|          | 0.00/53.0 [00:00<?, ?B/s]"
      ]
     },
     "metadata": {},
     "output_type": "display_data"
    },
    {
     "name": "stderr",
     "output_type": "stream",
     "text": [
      "c:\\Users\\KomputerSKKK\\AppData\\Local\\Programs\\Python\\Python310\\lib\\site-packages\\huggingface_hub\\file_download.py:1132: FutureWarning: `resume_download` is deprecated and will be removed in version 1.0.0. Downloads always resume when possible. If you want to force a new download, use `force_download=True`.\n",
      "  warnings.warn(\n"
     ]
    },
    {
     "data": {
      "application/vnd.jupyter.widget-view+json": {
       "model_id": "806ce4d666f04ac982ac148c25c55a2d",
       "version_major": 2,
       "version_minor": 0
      },
      "text/plain": [
       "config.json:   0%|          | 0.00/723 [00:00<?, ?B/s]"
      ]
     },
     "metadata": {},
     "output_type": "display_data"
    },
    {
     "data": {
      "application/vnd.jupyter.widget-view+json": {
       "model_id": "bbfd68da43e8495a9f5a2dbd49d287f7",
       "version_major": 2,
       "version_minor": 0
      },
      "text/plain": [
       "model.safetensors:   0%|          | 0.00/1.11G [00:00<?, ?B/s]"
      ]
     },
     "metadata": {},
     "output_type": "display_data"
    },
    {
     "data": {
      "application/vnd.jupyter.widget-view+json": {
       "model_id": "8167adc2801b4b63a2de647be8dfd937",
       "version_major": 2,
       "version_minor": 0
      },
      "text/plain": [
       "tokenizer_config.json:   0%|          | 0.00/402 [00:00<?, ?B/s]"
      ]
     },
     "metadata": {},
     "output_type": "display_data"
    },
    {
     "data": {
      "application/vnd.jupyter.widget-view+json": {
       "model_id": "30f6f58c841c42acaef128eb16196a75",
       "version_major": 2,
       "version_minor": 0
      },
      "text/plain": [
       "sentencepiece.bpe.model:   0%|          | 0.00/5.07M [00:00<?, ?B/s]"
      ]
     },
     "metadata": {},
     "output_type": "display_data"
    },
    {
     "data": {
      "application/vnd.jupyter.widget-view+json": {
       "model_id": "04e8e2e996a64592bced3d62ede68312",
       "version_major": 2,
       "version_minor": 0
      },
      "text/plain": [
       "tokenizer.json:   0%|          | 0.00/9.08M [00:00<?, ?B/s]"
      ]
     },
     "metadata": {},
     "output_type": "display_data"
    },
    {
     "data": {
      "application/vnd.jupyter.widget-view+json": {
       "model_id": "3ade411b975a44cf8ae93e659e85783f",
       "version_major": 2,
       "version_minor": 0
      },
      "text/plain": [
       "special_tokens_map.json:   0%|          | 0.00/239 [00:00<?, ?B/s]"
      ]
     },
     "metadata": {},
     "output_type": "display_data"
    },
    {
     "data": {
      "application/vnd.jupyter.widget-view+json": {
       "model_id": "c9e90f62647341518e697ae8025d8545",
       "version_major": 2,
       "version_minor": 0
      },
      "text/plain": [
       "1_Pooling/config.json:   0%|          | 0.00/190 [00:00<?, ?B/s]"
      ]
     },
     "metadata": {},
     "output_type": "display_data"
    }
   ],
   "source": [
    "sentence_model = SentenceTransformer('sentence-transformers/paraphrase-multilingual-mpnet-base-v2')"
   ]
  },
  {
   "cell_type": "code",
   "execution_count": 8,
   "metadata": {},
   "outputs": [],
   "source": [
    "no_ident = ''\n",
    "nm_penerima = 'suwanto'\n",
    "al_penerima = 'jl. raya bogor km 30'\n",
    "uraian_barang = 'beras'"
   ]
  },
  {
   "cell_type": "code",
   "execution_count": 9,
   "metadata": {},
   "outputs": [],
   "source": [
    "similar_id = find_similar(no_ident, nm_penerima, al_penerima, df, model_ident, vectorizer_ident, model_name, vectorizer_name, model_address, vectorizer_address)"
   ]
  },
  {
   "cell_type": "code",
   "execution_count": 10,
   "metadata": {},
   "outputs": [
    {
     "data": {
      "text/html": [
       "<div>\n",
       "<style scoped>\n",
       "    .dataframe tbody tr th:only-of-type {\n",
       "        vertical-align: middle;\n",
       "    }\n",
       "\n",
       "    .dataframe tbody tr th {\n",
       "        vertical-align: top;\n",
       "    }\n",
       "\n",
       "    .dataframe thead th {\n",
       "        text-align: right;\n",
       "    }\n",
       "</style>\n",
       "<table border=\"1\" class=\"dataframe\">\n",
       "  <thead>\n",
       "    <tr style=\"text-align: right;\">\n",
       "      <th></th>\n",
       "      <th>ID_AJU</th>\n",
       "      <th>HS_CODE</th>\n",
       "      <th>URAIAN_BARANG</th>\n",
       "      <th>NO_IDENT</th>\n",
       "      <th>NM_PENERIMA</th>\n",
       "      <th>AL_PENERIMA</th>\n",
       "      <th>JML_SAT_HRG</th>\n",
       "      <th>CIF_DETAIL</th>\n",
       "      <th>Similarity (%)</th>\n",
       "    </tr>\n",
       "  </thead>\n",
       "  <tbody>\n",
       "    <tr>\n",
       "      <th>0</th>\n",
       "      <td>306732141</td>\n",
       "      <td>19059090</td>\n",
       "      <td>makanan</td>\n",
       "      <td>180721290855000</td>\n",
       "      <td>suwanto</td>\n",
       "      <td>danau bogor raya blok kel katulampa kec bogor ...</td>\n",
       "      <td>5.0</td>\n",
       "      <td>1.6</td>\n",
       "      <td>83.733333</td>\n",
       "    </tr>\n",
       "    <tr>\n",
       "      <th>1</th>\n",
       "      <td>306335065</td>\n",
       "      <td>19053120</td>\n",
       "      <td>biscuit</td>\n",
       "      <td>3329141007600006</td>\n",
       "      <td>suwanto</td>\n",
       "      <td>komp bogor raya permai curug kec bogor barat k...</td>\n",
       "      <td>4.0</td>\n",
       "      <td>8.0</td>\n",
       "      <td>82.542373</td>\n",
       "    </tr>\n",
       "    <tr>\n",
       "      <th>2</th>\n",
       "      <td>306746488</td>\n",
       "      <td>19059090</td>\n",
       "      <td>makanan</td>\n",
       "      <td>5202070611870003</td>\n",
       "      <td>suwanto</td>\n",
       "      <td>komp bogor raya permai curug kec bogor barat k...</td>\n",
       "      <td>8.0</td>\n",
       "      <td>1.6</td>\n",
       "      <td>82.542373</td>\n",
       "    </tr>\n",
       "    <tr>\n",
       "      <th>3</th>\n",
       "      <td>307129486</td>\n",
       "      <td>19059040</td>\n",
       "      <td>makanan</td>\n",
       "      <td>3211115811000011</td>\n",
       "      <td>suwanto</td>\n",
       "      <td>komp bogor raya permai curug kec bogor barat k...</td>\n",
       "      <td>6.0</td>\n",
       "      <td>12.0</td>\n",
       "      <td>82.542373</td>\n",
       "    </tr>\n",
       "    <tr>\n",
       "      <th>4</th>\n",
       "      <td>306746488</td>\n",
       "      <td>10063070</td>\n",
       "      <td>beras</td>\n",
       "      <td>083845201659</td>\n",
       "      <td>suwanto</td>\n",
       "      <td>komp bogor raya permai curug kec bogor barat k...</td>\n",
       "      <td>4.0</td>\n",
       "      <td>1.4</td>\n",
       "      <td>82.419355</td>\n",
       "    </tr>\n",
       "    <tr>\n",
       "      <th>5</th>\n",
       "      <td>307054380</td>\n",
       "      <td>19059090</td>\n",
       "      <td>biscuits</td>\n",
       "      <td>3324011507620002</td>\n",
       "      <td>suwanto</td>\n",
       "      <td>komp bogor raya permai curug kec bogor barat k...</td>\n",
       "      <td>5.0</td>\n",
       "      <td>1.7</td>\n",
       "      <td>82.419355</td>\n",
       "    </tr>\n",
       "    <tr>\n",
       "      <th>6</th>\n",
       "      <td>306306709</td>\n",
       "      <td>19041090</td>\n",
       "      <td>makanan</td>\n",
       "      <td>087859471974</td>\n",
       "      <td>suwanti</td>\n",
       "      <td>komp bogor raya permai curug kec bogor barat k...</td>\n",
       "      <td>8.0</td>\n",
       "      <td>13.2</td>\n",
       "      <td>70.990783</td>\n",
       "    </tr>\n",
       "    <tr>\n",
       "      <th>7</th>\n",
       "      <td>306326972</td>\n",
       "      <td>19059040</td>\n",
       "      <td>makanan</td>\n",
       "      <td>000000000</td>\n",
       "      <td>suwanti</td>\n",
       "      <td>sukamulya kel sukasari kec bogor timur bogor b...</td>\n",
       "      <td>8.0</td>\n",
       "      <td>13.2</td>\n",
       "      <td>72.764977</td>\n",
       "    </tr>\n",
       "    <tr>\n",
       "      <th>8</th>\n",
       "      <td>306467097</td>\n",
       "      <td>18069010</td>\n",
       "      <td>chocolate bar</td>\n",
       "      <td>08994844872</td>\n",
       "      <td>suwantora</td>\n",
       "      <td>dereded 31d bogor selatan bondongan jawa barat...</td>\n",
       "      <td>1.0</td>\n",
       "      <td>3.0</td>\n",
       "      <td>64.565972</td>\n",
       "    </tr>\n",
       "    <tr>\n",
       "      <th>14</th>\n",
       "      <td>306626137</td>\n",
       "      <td>19059090</td>\n",
       "      <td>coffee durian drink</td>\n",
       "      <td>321210150886000</td>\n",
       "      <td>suwandi</td>\n",
       "      <td>bogor</td>\n",
       "      <td>22.0</td>\n",
       "      <td>166.65</td>\n",
       "      <td>62.142857</td>\n",
       "    </tr>\n",
       "  </tbody>\n",
       "</table>\n",
       "</div>"
      ],
      "text/plain": [
       "       ID_AJU   HS_CODE        URAIAN_BARANG          NO_IDENT NM_PENERIMA  \\\n",
       "0   306732141  19059090              makanan   180721290855000     suwanto   \n",
       "1   306335065  19053120              biscuit  3329141007600006     suwanto   \n",
       "2   306746488  19059090              makanan  5202070611870003     suwanto   \n",
       "3   307129486  19059040              makanan  3211115811000011     suwanto   \n",
       "4   306746488  10063070                beras      083845201659     suwanto   \n",
       "5   307054380  19059090             biscuits  3324011507620002     suwanto   \n",
       "6   306306709  19041090              makanan      087859471974     suwanti   \n",
       "7   306326972  19059040              makanan         000000000     suwanti   \n",
       "8   306467097  18069010        chocolate bar       08994844872   suwantora   \n",
       "14  306626137  19059090  coffee durian drink   321210150886000     suwandi   \n",
       "\n",
       "                                          AL_PENERIMA JML_SAT_HRG CIF_DETAIL  \\\n",
       "0   danau bogor raya blok kel katulampa kec bogor ...         5.0        1.6   \n",
       "1   komp bogor raya permai curug kec bogor barat k...         4.0        8.0   \n",
       "2   komp bogor raya permai curug kec bogor barat k...         8.0        1.6   \n",
       "3   komp bogor raya permai curug kec bogor barat k...         6.0       12.0   \n",
       "4   komp bogor raya permai curug kec bogor barat k...         4.0        1.4   \n",
       "5   komp bogor raya permai curug kec bogor barat k...         5.0        1.7   \n",
       "6   komp bogor raya permai curug kec bogor barat k...         8.0       13.2   \n",
       "7   sukamulya kel sukasari kec bogor timur bogor b...         8.0       13.2   \n",
       "8   dereded 31d bogor selatan bondongan jawa barat...         1.0        3.0   \n",
       "14                                              bogor        22.0     166.65   \n",
       "\n",
       "    Similarity (%)  \n",
       "0        83.733333  \n",
       "1        82.542373  \n",
       "2        82.542373  \n",
       "3        82.542373  \n",
       "4        82.419355  \n",
       "5        82.419355  \n",
       "6        70.990783  \n",
       "7        72.764977  \n",
       "8        64.565972  \n",
       "14       62.142857  "
      ]
     },
     "execution_count": 10,
     "metadata": {},
     "output_type": "execute_result"
    }
   ],
   "source": [
    "# get similar_id that Similarity (%) > 0.6\n",
    "similar_id[similar_id['Similarity (%)'] > 60].head(10)"
   ]
  },
  {
   "cell_type": "markdown",
   "metadata": {},
   "source": [
    "### Kesesuaian HS CODE dengan Nama Produk"
   ]
  },
  {
   "cell_type": "code",
   "execution_count": 12,
   "metadata": {},
   "outputs": [],
   "source": [
    "df_hs = pd.read_csv('./data/hs_code_not_clean_id.csv', dtype=str)"
   ]
  },
  {
   "cell_type": "code",
   "execution_count": 13,
   "metadata": {},
   "outputs": [],
   "source": [
    "df_hs_results = get_similarity(similar_id, sentence_model, df_hs)"
   ]
  },
  {
   "cell_type": "code",
   "execution_count": 14,
   "metadata": {},
   "outputs": [
    {
     "data": {
      "text/html": [
       "<div>\n",
       "<style scoped>\n",
       "    .dataframe tbody tr th:only-of-type {\n",
       "        vertical-align: middle;\n",
       "    }\n",
       "\n",
       "    .dataframe tbody tr th {\n",
       "        vertical-align: top;\n",
       "    }\n",
       "\n",
       "    .dataframe thead th {\n",
       "        text-align: right;\n",
       "    }\n",
       "</style>\n",
       "<table border=\"1\" class=\"dataframe\">\n",
       "  <thead>\n",
       "    <tr style=\"text-align: right;\">\n",
       "      <th></th>\n",
       "      <th>ID_AJU</th>\n",
       "      <th>HS_CODE</th>\n",
       "      <th>URAIAN_BARANG</th>\n",
       "      <th>POS_DESC</th>\n",
       "      <th>JML_SAT_HRG</th>\n",
       "      <th>CIF_DETAIL</th>\n",
       "      <th>SIMILARITY</th>\n",
       "    </tr>\n",
       "  </thead>\n",
       "  <tbody>\n",
       "    <tr>\n",
       "      <th>0</th>\n",
       "      <td>306732141</td>\n",
       "      <td>19059090</td>\n",
       "      <td>makanan</td>\n",
       "      <td>Roti, kue kering, kue, biskuit dan produk rot...</td>\n",
       "      <td>5.0</td>\n",
       "      <td>1.6</td>\n",
       "      <td>0.520830</td>\n",
       "    </tr>\n",
       "    <tr>\n",
       "      <th>1</th>\n",
       "      <td>306335065</td>\n",
       "      <td>19053120</td>\n",
       "      <td>biscuit</td>\n",
       "      <td>Roti, kue kering, kue, biskuit dan produk rot...</td>\n",
       "      <td>4.0</td>\n",
       "      <td>8.0</td>\n",
       "      <td>0.612583</td>\n",
       "    </tr>\n",
       "    <tr>\n",
       "      <th>2</th>\n",
       "      <td>306746488</td>\n",
       "      <td>19059090</td>\n",
       "      <td>makanan</td>\n",
       "      <td>Roti, kue kering, kue, biskuit dan produk rot...</td>\n",
       "      <td>8.0</td>\n",
       "      <td>1.6</td>\n",
       "      <td>0.520830</td>\n",
       "    </tr>\n",
       "    <tr>\n",
       "      <th>3</th>\n",
       "      <td>307129486</td>\n",
       "      <td>19059040</td>\n",
       "      <td>makanan</td>\n",
       "      <td>Roti, kue kering, kue, biskuit dan produk rot...</td>\n",
       "      <td>6.0</td>\n",
       "      <td>12.0</td>\n",
       "      <td>0.520830</td>\n",
       "    </tr>\n",
       "    <tr>\n",
       "      <th>4</th>\n",
       "      <td>306746488</td>\n",
       "      <td>10063070</td>\n",
       "      <td>beras</td>\n",
       "      <td>Beras. - Beras setengah giling atau digiling ...</td>\n",
       "      <td>4.0</td>\n",
       "      <td>1.4</td>\n",
       "      <td>0.770296</td>\n",
       "    </tr>\n",
       "    <tr>\n",
       "      <th>...</th>\n",
       "      <td>...</td>\n",
       "      <td>...</td>\n",
       "      <td>...</td>\n",
       "      <td>...</td>\n",
       "      <td>...</td>\n",
       "      <td>...</td>\n",
       "      <td>...</td>\n",
       "    </tr>\n",
       "    <tr>\n",
       "      <th>95</th>\n",
       "      <td>60693190</td>\n",
       "      <td>08106000</td>\n",
       "      <td>durian</td>\n",
       "      <td>Buah lainnya, segar. - Durian</td>\n",
       "      <td>75.0</td>\n",
       "      <td>518.71</td>\n",
       "      <td>0.632214</td>\n",
       "    </tr>\n",
       "    <tr>\n",
       "      <th>96</th>\n",
       "      <td>60879610</td>\n",
       "      <td>18069030</td>\n",
       "      <td>makanan kulit kembang tahu</td>\n",
       "      <td>Coklat dan olahan makanan lainnya mengandung ...</td>\n",
       "      <td>1.0</td>\n",
       "      <td>2.4</td>\n",
       "      <td>0.530238</td>\n",
       "    </tr>\n",
       "    <tr>\n",
       "      <th>97</th>\n",
       "      <td>60628827</td>\n",
       "      <td>08106000</td>\n",
       "      <td>durian</td>\n",
       "      <td>Buah lainnya, segar. - Durian</td>\n",
       "      <td>65.0</td>\n",
       "      <td>518.71</td>\n",
       "      <td>0.632214</td>\n",
       "    </tr>\n",
       "    <tr>\n",
       "      <th>98</th>\n",
       "      <td>60931094</td>\n",
       "      <td>08106000</td>\n",
       "      <td>durian</td>\n",
       "      <td>Buah lainnya, segar. - Durian</td>\n",
       "      <td>30.0</td>\n",
       "      <td>266.0</td>\n",
       "      <td>0.632214</td>\n",
       "    </tr>\n",
       "    <tr>\n",
       "      <th>99</th>\n",
       "      <td>60680814</td>\n",
       "      <td>08106000</td>\n",
       "      <td>durian</td>\n",
       "      <td>Buah lainnya, segar. - Durian</td>\n",
       "      <td>49.0</td>\n",
       "      <td>363.1</td>\n",
       "      <td>0.632214</td>\n",
       "    </tr>\n",
       "  </tbody>\n",
       "</table>\n",
       "<p>100 rows × 7 columns</p>\n",
       "</div>"
      ],
      "text/plain": [
       "       ID_AJU   HS_CODE               URAIAN_BARANG  \\\n",
       "0   306732141  19059090                     makanan   \n",
       "1   306335065  19053120                     biscuit   \n",
       "2   306746488  19059090                     makanan   \n",
       "3   307129486  19059040                     makanan   \n",
       "4   306746488  10063070                       beras   \n",
       "..        ...       ...                         ...   \n",
       "95   60693190  08106000                      durian   \n",
       "96   60879610  18069030  makanan kulit kembang tahu   \n",
       "97   60628827  08106000                      durian   \n",
       "98   60931094  08106000                      durian   \n",
       "99   60680814  08106000                      durian   \n",
       "\n",
       "                                             POS_DESC JML_SAT_HRG CIF_DETAIL  \\\n",
       "0    Roti, kue kering, kue, biskuit dan produk rot...         5.0        1.6   \n",
       "1    Roti, kue kering, kue, biskuit dan produk rot...         4.0        8.0   \n",
       "2    Roti, kue kering, kue, biskuit dan produk rot...         8.0        1.6   \n",
       "3    Roti, kue kering, kue, biskuit dan produk rot...         6.0       12.0   \n",
       "4    Beras. - Beras setengah giling atau digiling ...         4.0        1.4   \n",
       "..                                                ...         ...        ...   \n",
       "95                      Buah lainnya, segar. - Durian        75.0     518.71   \n",
       "96   Coklat dan olahan makanan lainnya mengandung ...         1.0        2.4   \n",
       "97                      Buah lainnya, segar. - Durian        65.0     518.71   \n",
       "98                      Buah lainnya, segar. - Durian        30.0      266.0   \n",
       "99                      Buah lainnya, segar. - Durian        49.0      363.1   \n",
       "\n",
       "    SIMILARITY  \n",
       "0     0.520830  \n",
       "1     0.612583  \n",
       "2     0.520830  \n",
       "3     0.520830  \n",
       "4     0.770296  \n",
       "..         ...  \n",
       "95    0.632214  \n",
       "96    0.530238  \n",
       "97    0.632214  \n",
       "98    0.632214  \n",
       "99    0.632214  \n",
       "\n",
       "[100 rows x 7 columns]"
      ]
     },
     "execution_count": 14,
     "metadata": {},
     "output_type": "execute_result"
    }
   ],
   "source": [
    "df_hs_results"
   ]
  },
  {
   "cell_type": "markdown",
   "metadata": {},
   "source": [
    "### Range Harga berdasarkan Uraian Produk"
   ]
  },
  {
   "cell_type": "code",
   "execution_count": 15,
   "metadata": {},
   "outputs": [],
   "source": [
    "range_harga = get_range(uraian_barang, df, model_uraian, vectorizer_uraian, sentence_model)"
   ]
  },
  {
   "cell_type": "code",
   "execution_count": 16,
   "metadata": {},
   "outputs": [
    {
     "name": "stdout",
     "output_type": "stream",
     "text": [
      "Harga kisaran min: 0.6375\n",
      "Harga kisaran max: 1.6\n"
     ]
    }
   ],
   "source": [
    "# print range harga min and max, tuple (min, max)\n",
    "print(f'Harga kisaran min: {range_harga[0]}')\n",
    "print(f'Harga kisaran max: {range_harga[1]}')"
   ]
  }
 ],
 "metadata": {
  "kernelspec": {
   "display_name": "Python 3",
   "language": "python",
   "name": "python3"
  },
  "language_info": {
   "codemirror_mode": {
    "name": "ipython",
    "version": 3
   },
   "file_extension": ".py",
   "mimetype": "text/x-python",
   "name": "python",
   "nbconvert_exporter": "python",
   "pygments_lexer": "ipython3",
   "version": "3.10.4"
  },
  "toc": {
   "base_numbering": 1,
   "nav_menu": {},
   "number_sections": true,
   "sideBar": true,
   "skip_h1_title": false,
   "title_cell": "Table of Contents",
   "title_sidebar": "Contents",
   "toc_cell": false,
   "toc_position": {},
   "toc_section_display": true,
   "toc_window_display": false
  }
 },
 "nbformat": 4,
 "nbformat_minor": 2
}
